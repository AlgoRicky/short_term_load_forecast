{
 "cells": [
  {
   "cell_type": "code",
   "execution_count": 1,
   "metadata": {},
   "outputs": [
    {
     "name": "stderr",
     "output_type": "stream",
     "text": [
      "K:\\anaconda3\\envs\\stlf_r114\\lib\\site-packages\\h5py\\__init__.py:36: FutureWarning: Conversion of the second argument of issubdtype from `float` to `np.floating` is deprecated. In future, it will be treated as `np.float64 == np.dtype(float).type`.\n",
      "  from ._conv import register_converters as _register_converters\n",
      "Using TensorFlow backend.\n"
     ]
    }
   ],
   "source": [
    "import sys\n",
    "sys.path.append('M:/comlib/')\n",
    "from utilities import *\n",
    "from datetimerange import DateTimeRange\n",
    "from datetime import date, datetime\n",
    "from dateutil.relativedelta import relativedelta\n",
    "\n",
    "from functools import reduce \n",
    "import pandas as pd\n",
    "import re\n",
    "from glob import glob \n",
    "import collections\n",
    "# import tensorflow.compat.v1 as tf\n",
    "# tf.disable_v2_behavior()\n",
    "\n",
    "# import tf.keras as keras\n",
    "\n",
    "import tensorflow as tf\n",
    "from keras.backend.tensorflow_backend import set_session\n",
    "config = tf.ConfigProto()\n",
    "config.gpu_options.per_process_gpu_memory_fraction = 0.2\n",
    "# config = tf.ConfigProto(\n",
    "#         device_count = {'GPU': 0}\n",
    "#     )\n",
    "set_session(tf.Session(config=config))\n",
    "\n",
    "from pathlib import Path\n",
    "homepath = str(Path.home())\n",
    "save_dir  = f'{homepath}/Downloads/'\n"
   ]
  },
  {
   "cell_type": "code",
   "execution_count": 15,
   "metadata": {},
   "outputs": [],
   "source": [
    "import numpy as np\n",
    "from datetime import datetime\n",
    "import pandas as pd\n",
    "All = pd.read_csv('M:/Projects/STLF/ProfileExact15/Data/PreparedData.csv',sep = ',',parse_dates =['Timestamp'], index_col=['Timestamp'])\n",
    "\n",
    "xc=All[datetime(2018,12,1,0,0,0):]\n"
   ]
  },
  {
   "cell_type": "code",
   "execution_count": 16,
   "metadata": {},
   "outputs": [],
   "source": [
    "xc=xc.reset_index()\n",
    "xc=xc.loc[:(xc.shape[0]//96)*96-1,:]\n",
    "\n",
    "ats=pd.Series(pd.to_datetime(xc[\"Timestamp\"][:(All.shape[0]//96)*96]).apply(lambda x: x.date()).unique(), name='date')\n",
    "ats.sort_values(ascending=True, inplace=True)\n"
   ]
  },
  {
   "cell_type": "code",
   "execution_count": 3,
   "metadata": {},
   "outputs": [],
   "source": [
    "# checking against the old model\n",
    "testing_dates=[]\n",
    "testing_values=[]\n",
    "for i in glob('m:Projects/STLF/ProfileExact15/Reports/*_new.csv'):\n",
    "    testing_dates.append(datetime.strptime(i.split('\\\\')[-1].split('_')[0], '%Y%m%d').date())\n",
    "    testing_values.append(pd.read_csv(i).get_values().mean(0)/8000)\n",
    "#     print(i, (pd.read_csv(i).iloc[:,1:].get_values().mean(0)/8000).shape)\n",
    "#     print(len(testing_values))\n",
    "#     print(pd.read_csv(i).shape)\n",
    "#     break\n",
    "testing_dates=pd.Series(testing_dates, name='date')\n",
    "testing_values=np.concatenate(testing_values).reshape(-1,96)\n",
    "backtest1=pd.DataFrame({'date':testing_dates, 'values':testing_values.tolist()}).set_index('date')"
   ]
  },
  {
   "cell_type": "code",
   "execution_count": 7,
   "metadata": {},
   "outputs": [],
   "source": [
    "backtemp=pd.read_csv('m:Projects/STLF/ProfileExact15/Reports/stlf_backtest.csv')\n",
    "\n",
    "# backtemp\n",
    "backtemp_date=pd.Series(pd.to_datetime(backtemp[\"timestamp\"][:(backtemp.shape[0]//96)*96]).apply(lambda x: x.date()).unique(), name='date')\n",
    "backtemp_values=(backtemp['predict'].get_values().reshape(-1,96)/8000)\n",
    "backtest2=pd.DataFrame({'date':backtemp_date, 'values':backtemp_values.tolist()}).set_index('date')\n",
    "overlap=backtest1.join(backtest2, how='inner',lsuffix=('_a')).reset_index()\n",
    "# np.isnan(backtest['values_a'])"
   ]
  },
  {
   "cell_type": "code",
   "execution_count": 19,
   "metadata": {},
   "outputs": [],
   "source": [
    "backtest_all=backtest2[ats.min(): ats.max()].append(backtest1[overlap.date.max()+timedelta(days=1):ats.max()])\n",
    "# backtest1.date.min(), \n",
    "oldbacktesting=np.concatenate(backtest_all['values'].get_values().tolist(), axis=0).reshape(-1,96)"
   ]
  },
  {
   "cell_type": "code",
   "execution_count": 20,
   "metadata": {},
   "outputs": [
    {
     "data": {
      "text/plain": [
       "(324, 96)"
      ]
     },
     "execution_count": 20,
     "metadata": {},
     "output_type": "execute_result"
    }
   ],
   "source": [
    "oldbacktesting.shape"
   ]
  },
  {
   "cell_type": "code",
   "execution_count": 22,
   "metadata": {},
   "outputs": [],
   "source": [
    "from datetime import time\n",
    "D=xc[(xc['Timestamp']>=datetime.combine(ats.min(), time(0,0,0))) & (xc['Timestamp']<=datetime.combine(ats.max(), time(23,59,59)))]['EMS.MUD..OPERATIONAL.DEMAND.MW']\\\n",
    ".get_values().reshape(-1, 96)/8000"
   ]
  },
  {
   "cell_type": "code",
   "execution_count": 24,
   "metadata": {},
   "outputs": [
    {
     "data": {
      "text/plain": [
       "((324, 96), (324, 96))"
      ]
     },
     "execution_count": 24,
     "metadata": {},
     "output_type": "execute_result"
    }
   ],
   "source": [
    "oldbacktesting.shape, D.shape"
   ]
  },
  {
   "cell_type": "code",
   "execution_count": 69,
   "metadata": {
    "scrolled": false
   },
   "outputs": [
    {
     "data": {
      "text/plain": [
       "array([0.02565916, 0.0277051 , 0.0120152 , 0.02047683, 0.02964486,\n",
       "       0.02966449, 0.02704143, 0.02499739, 0.02104303, 0.02779756,\n",
       "       0.01744389, 0.01821008, 0.02551523, 0.02248381, 0.01803783,\n",
       "       0.01317921, 0.01509254, 0.02155441, 0.01330766, 0.01308796,\n",
       "       0.01741322, 0.01952618, 0.04058489, 0.19420642, 0.06311107,\n",
       "       0.08188409, 0.02094609, 0.02066218, 0.08747902, 0.06752083,\n",
       "       0.12606159, 0.07171959, 0.02275714, 0.02188334, 0.04784394,\n",
       "       0.02529994, 0.01752584, 0.02619291, 0.01349445, 0.01442293,\n",
       "       0.01376909, 0.01751853, 0.02273732, 0.00917892, 0.01898414,\n",
       "       0.02595236, 0.01722783, 0.03007411, 0.02051779, 0.01151912,\n",
       "       0.02218892, 0.0297932 , 0.01574932, 0.01620661, 0.01532477,\n",
       "       0.017651  , 0.02108934, 0.01421622, 0.01762991, 0.01299976,\n",
       "       0.01765939, 0.0147919 , 0.0389664 , 0.0418776 , 0.05738051,\n",
       "       0.09257298, 0.16047093, 0.11611795, 0.08714242, 0.09623305,\n",
       "       0.05610775, 0.04755826, 0.01768102, 0.03055007, 0.02768263,\n",
       "       0.01598605, 0.01976468, 0.01860726, 0.01453052, 0.04171466,\n",
       "       0.03528631, 0.04833518, 0.01931557, 0.02080927, 0.02700973,\n",
       "       0.01531012, 0.01896841, 0.01502941, 0.01201908, 0.02266591,\n",
       "       0.01260929, 0.01564927, 0.01838695, 0.0133152 , 0.04147931,\n",
       "       0.01907733, 0.02717158, 0.02166227, 0.05164277, 0.01800661,\n",
       "       0.01437397, 0.03615863, 0.06018888, 0.01777403, 0.02443338,\n",
       "       0.06473915, 0.02618515, 0.01374944, 0.02173362, 0.03447359,\n",
       "       0.02352431, 0.0156718 , 0.04930179, 0.04243634, 0.03035385,\n",
       "       0.01722328, 0.01608879, 0.01734946, 0.02781942, 0.05984884,\n",
       "       0.02193446, 0.02199862, 0.04060011, 0.03210477, 0.05576193,\n",
       "       0.04556592, 0.06118459, 0.04156382, 0.02135891, 0.04220248,\n",
       "       0.02719013, 0.05323018, 0.11615044, 0.05926352, 0.03508173,\n",
       "       0.03331623, 0.0199938 , 0.0239379 , 0.02170284, 0.06447843,\n",
       "       0.06334639, 0.07705148, 0.06923716, 0.02955619, 0.02500154,\n",
       "       0.03039718, 0.0222809 , 0.14832076, 0.07461133, 0.05570315,\n",
       "       0.07546872, 0.1614468 , 0.0708817 , 0.02219615, 0.0252185 ,\n",
       "       0.02538314, 0.02277874, 0.0325757 , 0.02456541, 0.02921026,\n",
       "       0.0480087 , 0.02879553, 0.03567962, 0.03671899, 0.06837375,\n",
       "       0.03844445, 0.03544857, 0.03062168, 0.03033866, 0.0508908 ,\n",
       "       0.11670361, 0.22484247, 0.07630394, 0.05890953, 0.06349158,\n",
       "       0.03800062, 0.11824918, 0.08534006, 0.09422414, 0.10145877,\n",
       "       0.03861304, 0.03171942, 0.04589234, 0.06156699, 0.06923497,\n",
       "       0.03346369, 0.06582289, 0.04640638, 0.10157739, 0.08538276,\n",
       "       0.0487887 , 0.11529846, 0.06624535, 0.10111681, 0.03865642,\n",
       "       0.04178752, 0.05163214, 0.06447267, 0.03604894, 0.02694695,\n",
       "       0.03076098, 0.06688768, 0.02732075, 0.02599899, 0.02867003,\n",
       "       0.13896409, 0.04688453, 0.06023195, 0.05960863, 0.02248615,\n",
       "       0.01972847, 0.05815618, 0.06213588, 0.08481742, 0.04118126,\n",
       "       0.06337415, 0.04673639, 0.03540336, 0.03754913, 0.07667154,\n",
       "       0.02905366, 0.08458647, 0.09581607, 0.03711432, 0.02507126,\n",
       "       0.03572652, 0.0309066 , 0.02945881, 0.07800336, 0.0575925 ,\n",
       "       0.1026421 , 0.16559932, 0.06617524, 0.07761981, 0.15807495,\n",
       "       0.19524586, 0.05532902, 0.05817274, 0.10228781, 0.10889575,\n",
       "       0.10787848, 0.10077668, 0.35649818, 0.12002934, 0.0708641 ,\n",
       "       0.08462739, 0.06213207, 0.05341039, 0.07491205, 0.07480275,\n",
       "       0.13560241, 0.1742739 , 0.13071533, 0.09949487, 0.17293304,\n",
       "       0.18541548, 0.16323148, 0.13307613, 0.0800914 , 0.12169681,\n",
       "       0.10908536, 0.08699631, 0.07544206, 0.02587223, 0.08428891,\n",
       "       0.05946555, 0.18874827, 0.1287537 , 0.12916562, 0.13795643,\n",
       "       0.12612031, 0.07745485, 0.12544334, 0.05383537, 0.07468307,\n",
       "       0.03664498, 0.07544232, 0.04301378, 0.03956596, 0.09693621,\n",
       "       0.16200902, 0.13704789, 0.06325042, 0.05255065, 0.07218877,\n",
       "       0.0734162 , 0.08665336, 0.15136214, 0.05581954, 0.07141848,\n",
       "       0.03508497, 0.04255644, 0.08228402, 0.12092354, 0.07221189,\n",
       "       0.06893352, 0.04754043, 0.05000045, 0.05074985, 0.04446757,\n",
       "       0.02240165, 0.02653676, 0.11680716, 0.15878691, 0.14244907,\n",
       "       0.06118085, 0.04017037, 0.07491312, 0.06051664, 0.10381325,\n",
       "       0.10775217, 0.09753434, 0.04660093, 0.03805475, 0.03568191,\n",
       "       0.10732962, 0.05184784, 0.04973941, 0.04380905, 0.04083166,\n",
       "       0.02894019, 0.06782805, 0.02932401, 0.06000073], dtype=float32)"
      ]
     },
     "execution_count": 69,
     "metadata": {},
     "output_type": "execute_result"
    }
   ],
   "source": [
    "import tensorflow as tf\n",
    "import keras.backend as K\n",
    "def funcg(x):\n",
    "    def genmask2(x):\n",
    "        tfact=x[0]\n",
    "        tff2=x[1]\n",
    "        w=8\n",
    "        a=tf.expand_dims(tfact, axis=0)\n",
    "        b=tf.expand_dims(tff2, axis=1)\n",
    "        xxx=tf.abs(a-b)\n",
    "        mask=tf.matrix_band_part(tf.ones(xxx.shape), w,w)\n",
    "        mask2=(tf.ones(xxx.shape)-mask)*9\n",
    "        masked=mask*xxx+mask2\n",
    "        masked_copy=mask*xxx+mask2\n",
    "\n",
    "        masked_copy -= K.min(masked_copy, axis=1)[..., np.newaxis]\n",
    "        masked_copy -= K.min(masked_copy, axis=0)[np.newaxis, ...]\n",
    "\n",
    "        maskc=tf.ones(xxx.shape[0])\n",
    "        mask_eye=tf.matrix_band_part(tf.ones(xxx.shape), 0,0)*9\n",
    "        y=[]\n",
    "        y2=[]\n",
    "        mask_temp=tf.zeros(xxx.shape[0])\n",
    "        y_=tf.constant([], dtype=tf.int64)\n",
    "        for i in range(xxx.shape[1]):\n",
    "            y_=tf.argmin(masked_copy[i]+mask_temp, axis=0)\n",
    "            y__=tf.constant(i, dtype=tf.int64)\n",
    "            mask_temp=mask_eye[y_]+mask_temp\n",
    "            y.append(y_)\n",
    "            y2.append(y__)\n",
    "        ind=tf.stack([tf.stack(y2, axis=0), tf.stack(y, axis=0)], axis=1)\n",
    "        err=tf.gather_nd(masked, ind)\n",
    "        err2=tf.abs(tfact-tff2)\n",
    "        comberr=tf.minimum(err, err2)\n",
    "        ans=K.sqrt(K.sqrt(K.sum(K.square(K.square(comberr)))))\n",
    "        return ans\n",
    "    res = K.map_fn(genmask2, x, dtype=tf.float32)\n",
    "    return res\n",
    "\n",
    "tfact=tf.placeholder(shape=(None,96), dtype=tf.float32)\n",
    "tff2=tf.placeholder(shape=(None, 96,), dtype=tf.float32)\n",
    "# fff  = tf.stack((tfact, tff2), axis=1)\n",
    "with tf.Session() as sess:\n",
    "    sess.run(tf.global_variables_initializer())\n",
    "    fr=sess.run(funcg((tfact, tff2)),  feed_dict={tfact: oldbacktesting, tff2:  D} )\n",
    "    \n",
    "fr"
   ]
  },
  {
   "cell_type": "code",
   "execution_count": 70,
   "metadata": {},
   "outputs": [
    {
     "data": {
      "text/plain": [
       "(324,)"
      ]
     },
     "execution_count": 70,
     "metadata": {},
     "output_type": "execute_result"
    }
   ],
   "source": [
    "fr.shape"
   ]
  },
  {
   "cell_type": "code",
   "execution_count": null,
   "metadata": {},
   "outputs": [],
   "source": []
  }
 ],
 "metadata": {
  "kernelspec": {
   "display_name": "stlf_r114",
   "language": "python",
   "name": "stlf_r114"
  },
  "language_info": {
   "codemirror_mode": {
    "name": "ipython",
    "version": 3
   },
   "file_extension": ".py",
   "mimetype": "text/x-python",
   "name": "python",
   "nbconvert_exporter": "python",
   "pygments_lexer": "ipython3",
   "version": "3.6.5"
  }
 },
 "nbformat": 4,
 "nbformat_minor": 2
}
